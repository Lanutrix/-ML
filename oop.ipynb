{
 "cells": [
  {
   "cell_type": "markdown",
   "metadata": {},
   "source": [
    "##### Задание 1"
   ]
  },
  {
   "cell_type": "code",
   "execution_count": 4,
   "metadata": {},
   "outputs": [
    {
     "name": "stdout",
     "output_type": "stream",
     "text": [
      "Name: Alice, Age: 16\n",
      "Name: Bob, Age: 17\n",
      "Name: Charlie, Age: 16\n"
     ]
    }
   ],
   "source": [
    "students = []\n",
    "\n",
    "def add_student(name, age):\n",
    "    student = {\"name\": name, \"age\": age}\n",
    "    students.append(student)\n",
    "\n",
    "def display_students():\n",
    "    for student in students:\n",
    "        print(f\"Name: {student['name']}, Age: {student['age']}\")\n",
    "\n",
    "add_student(\"Alice\", 16)\n",
    "add_student(\"Bob\", 17)\n",
    "add_student(\"Charlie\", 16)\n",
    "\n",
    "display_students()"
   ]
  },
  {
   "cell_type": "code",
   "execution_count": 5,
   "metadata": {},
   "outputs": [
    {
     "name": "stdout",
     "output_type": "stream",
     "text": [
      "Name: Alice, Age: 16\n",
      "Name: Bob, Age: 17\n",
      "Name: Charlie, Age: 16\n"
     ]
    }
   ],
   "source": [
    "class Students():\n",
    "    def __init__(self) -> None:\n",
    "        self.students = []\n",
    "    def add_student(self, name, age):\n",
    "        self.students.append({\"name\": name, \"age\": age})\n",
    "    def display_students(self):\n",
    "        for student in self.students:\n",
    "            print(f\"Name: {student['name']}, Age: {student['age']}\")\n",
    "s = Students()\n",
    "s.add_student(\"Alice\", 16)\n",
    "s.add_student(\"Bob\", 17)\n",
    "s.add_student(\"Charlie\", 16)\n",
    "\n",
    "s.display_students()"
   ]
  },
  {
   "cell_type": "markdown",
   "metadata": {},
   "source": [
    "##### Задание 2"
   ]
  },
  {
   "cell_type": "code",
   "execution_count": 3,
   "metadata": {},
   "outputs": [
    {
     "name": "stdout",
     "output_type": "stream",
     "text": [
      "Radius: 5, Area: 78.54, Circumference: 31.42\n"
     ]
    }
   ],
   "source": [
    "import math\n",
    "\n",
    "def calculate_circle_area(radius):\n",
    "    return math.pi * radius ** 2\n",
    "\n",
    "def calculate_circle_circumference(radius):\n",
    "    return 2 * math.pi * radius\n",
    "\n",
    "radius = 5\n",
    "area = calculate_circle_area(radius)\n",
    "circumference = calculate_circle_circumference(radius)\n",
    "\n",
    "print(f\"Radius: {radius}, Area: {area:.2f}, Circumference: {circumference:.2f}\")"
   ]
  },
  {
   "cell_type": "code",
   "execution_count": 2,
   "metadata": {},
   "outputs": [
    {
     "name": "stdout",
     "output_type": "stream",
     "text": [
      "Radius: 5, Area: 78.54, Circumference: 31.42\n"
     ]
    }
   ],
   "source": [
    "from math import pi\n",
    "\n",
    "class Shaper():\n",
    "    def __init__(self) -> None:\n",
    "        self._radius = 0\n",
    "    def calculate_circle_area(self):\n",
    "        return pi * self.radius ** 2\n",
    "    def calculate_circle_circumference(self):\n",
    "        return 2 * pi * self.radius\n",
    "    @property\n",
    "    def radius(self):\n",
    "        return self._radius\n",
    "    @property\n",
    "    def area(self):\n",
    "        return self.calculate_circle_area()\n",
    "    @property\n",
    "    def circumference(self):\n",
    "        return self.calculate_circle_circumference()\n",
    "    @radius.setter\n",
    "    def radius(self, value:int):\n",
    "        self._radius = value\n",
    "\n",
    "s = Shaper()\n",
    "s.radius = 5\n",
    "print(f\"Radius: {s.radius}, Area: {s.area:.2f}, Circumference: {s.circumference:.2f}\")"
   ]
  },
  {
   "cell_type": "markdown",
   "metadata": {},
   "source": [
    "##### Задание 3"
   ]
  },
  {
   "cell_type": "code",
   "execution_count": 5,
   "metadata": {},
   "outputs": [
    {
     "name": "stdout",
     "output_type": "stream",
     "text": [
      "Description: Complete homework, Priority: High\n",
      "Description: Buy groceries, Priority: High\n",
      "Description: Exercise, Priority: Low\n"
     ]
    }
   ],
   "source": [
    "tasks = []\n",
    "\n",
    "def add_task(description, priority):\n",
    "    task = {\"description\": description, \"priority\": priority}\n",
    "    tasks.append(task)\n",
    "\n",
    "def display_tasks():\n",
    "    for task in tasks:\n",
    "        print(f\"Description: {task['description']}, Priority: {task['priority']}\")\n",
    "\n",
    "add_task(\"Complete homework\", \"High\")\n",
    "add_task(\"Buy groceries\", \"Medium\")\n",
    "add_task(\"Exercise\", \"Low\")\n",
    "\n",
    "display_tasks()"
   ]
  },
  {
   "cell_type": "code",
   "execution_count": 19,
   "metadata": {},
   "outputs": [
    {
     "name": "stdout",
     "output_type": "stream",
     "text": [
      "Description: Complete homework, Priority: High\n",
      "Description: Complete High2, Priority: High\n",
      "Description: Buy groceries, Priority: Medium\n",
      "Description: Exercise, Priority: Low\n",
      "Description: Buy gLow3, Priority: Low\n"
     ]
    }
   ],
   "source": [
    "from collections import defaultdict\n",
    "\n",
    "class TasksList:\n",
    "    def __init__(self) -> None:\n",
    "        self._tasks = defaultdict(list)\n",
    "    def add_task(self, description:str, priority:str):\n",
    "        tpriority = tuple(priority)\n",
    "        self._tasks[tpriority].append(description)\n",
    "    def display_tasks(self):\n",
    "        for i in self._tasks.keys():\n",
    "            for j in self._tasks[i]:\n",
    "                print(f\"Description: {j}, Priority: {''.join(list(i))}\")\n",
    "\n",
    "tl = TasksList()\n",
    "tl.add_task(\"Complete homework\", \"High\")\n",
    "tl.add_task(\"Buy groceries\", \"Medium\")\n",
    "tl.add_task(\"Exercise\", \"Low\")\n",
    "tl.add_task(\"Complete High2\", \"High\")\n",
    "tl.add_task(\"Buy gLow3\", \"Low\")\n",
    "# print(tl._tasks.keys())\n",
    "tl.display_tasks()"
   ]
  },
  {
   "cell_type": "markdown",
   "metadata": {},
   "source": [
    "##### Задание 4"
   ]
  },
  {
   "cell_type": "code",
   "execution_count": 20,
   "metadata": {},
   "outputs": [
    {
     "name": "stdout",
     "output_type": "stream",
     "text": [
      "Heroes:\n",
      "Name: Knight, Health: 100, Damage: 20\n",
      "Name: Wizard, Health: 80, Damage: 30\n",
      "\n",
      "Monsters:\n",
      "Name: Orc, Health: 50, Damage: 15\n",
      "Name: Dragon, Health: 150, Damage: 40\n"
     ]
    }
   ],
   "source": [
    "heroes = []\n",
    "monsters = []\n",
    "\n",
    "def add_hero(name, health, damage):\n",
    "    hero = {\"name\": name, \"health\": health, \"damage\": damage}\n",
    "    heroes.append(hero)\n",
    "\n",
    "def add_monster(name, health, damage):\n",
    "    monster = {\"name\": name, \"health\": health, \"damage\": damage}\n",
    "    monsters.append(monster)\n",
    "\n",
    "def display_entities():\n",
    "    print(\"Heroes:\")\n",
    "    for hero in heroes:\n",
    "        print(f\"Name: {hero['name']}, Health: {hero['health']}, Damage: {hero['damage']}\")\n",
    "\n",
    "    print(\"\\nMonsters:\")\n",
    "    for monster in monsters:\n",
    "        print(f\"Name: {monster['name']}, Health: {monster['health']}, Damage: {monster['damage']}\")\n",
    "\n",
    "add_hero(\"Knight\", 100, 20)\n",
    "add_hero(\"Wizard\", 80, 30)\n",
    "\n",
    "add_monster(\"Orc\", 50, 15)\n",
    "add_monster(\"Dragon\", 150, 40)\n",
    "\n",
    "display_entities()"
   ]
  },
  {
   "cell_type": "code",
   "execution_count": 25,
   "metadata": {},
   "outputs": [
    {
     "name": "stdout",
     "output_type": "stream",
     "text": [
      "Heroes:\n",
      "Name: Knight, Health: 100, Damage: 20\n",
      "Name: Wizard, Health: 80, Damage: 30\n",
      "\n",
      "Monsters:\n",
      "Name: Orc, Health: 50, Damage: 15\n",
      "Name: Dragon, Health: 150, Damage: 40\n"
     ]
    }
   ],
   "source": [
    "class Mob:\n",
    "    def __init__(self, name, health, damage) -> None:\n",
    "        self.name = name\n",
    "        self.health = health\n",
    "        self.damage = damage\n",
    "\n",
    "class Game():\n",
    "    def __init__(self) -> None:\n",
    "        self._heroes = []\n",
    "        self._monsters = []\n",
    "    def add_hero(self, name, health, damage):\n",
    "        self._heroes.append(Mob(name, health, damage))\n",
    "    def add_monster(self, name, health, damage):\n",
    "        self._monsters.append(Mob(name, health, damage))\n",
    "\n",
    "    def display_entities(self):\n",
    "        print(\"Heroes:\")\n",
    "        for hero in self._heroes:\n",
    "            print(f\"Name: {hero.name}, Health: {hero.health}, Damage: {hero.damage}\")\n",
    "\n",
    "        print(\"\\nMonsters:\")\n",
    "        for monster in self._monsters:\n",
    "            print(f\"Name: {monster.name}, Health: {monster.health}, Damage: {monster.damage}\")\n",
    "g = Game()\n",
    "g.add_hero(\"Knight\", 100, 20)\n",
    "g.add_hero(\"Wizard\", 80, 30)\n",
    "\n",
    "g.add_monster(\"Orc\", 50, 15)\n",
    "g.add_monster(\"Dragon\", 150, 40)\n",
    "\n",
    "g.display_entities()\n"
   ]
  },
  {
   "cell_type": "markdown",
   "metadata": {},
   "source": [
    "##### Задание 5"
   ]
  },
  {
   "cell_type": "code",
   "execution_count": 27,
   "metadata": {},
   "outputs": [
    {
     "name": "stdout",
     "output_type": "stream",
     "text": [
      "   |   |   \n",
      "-----------\n",
      "   |   |   \n",
      "-----------\n",
      "   |   |   \n",
      " X |   |   \n",
      "-----------\n",
      "   |   |   \n",
      "-----------\n",
      "   |   |   \n",
      " X | O |   \n",
      "-----------\n",
      "   |   |   \n",
      "-----------\n",
      "   |   |   \n",
      " X | O | X \n",
      "-----------\n",
      "   |   |   \n",
      "-----------\n",
      "   |   |   \n",
      " X | O | X \n",
      "-----------\n",
      "   |   | O \n",
      "-----------\n",
      "   |   |   \n",
      " X | O | X \n",
      "-----------\n",
      "   |   | O \n",
      "-----------\n",
      " X |   |   \n",
      "Invalid move. The position is already occupied.\n",
      " X | O | X \n",
      "-----------\n",
      "   |   | O \n",
      "-----------\n",
      " X |   |   \n",
      "Invalid move. The position is already occupied.\n",
      " X | O | X \n",
      "-----------\n",
      "   |   | O \n",
      "-----------\n",
      " X |   |   \n",
      " X | O | X \n",
      "-----------\n",
      "   | O | O \n",
      "-----------\n",
      " X |   |   \n",
      " X | O | X \n",
      "-----------\n",
      " X | O | O \n",
      "-----------\n",
      " X |   |   \n",
      "O wins!\n"
     ]
    }
   ],
   "source": [
    "def display_board(board):\n",
    "    print(f\" {board[0]} | {board[1]} | {board[2]} \")\n",
    "    print(\"-----------\")\n",
    "    print(f\" {board[3]} | {board[4]} | {board[5]} \")\n",
    "    print(\"-----------\")\n",
    "    print(f\" {board[6]} | {board[7]} | {board[8]} \")\n",
    "\n",
    "def make_move(board, position, current_player):\n",
    "    if board[position] == \" \":\n",
    "        board[position] = current_player\n",
    "    else:\n",
    "        print(\"Invalid move. The position is already occupied.\")\n",
    "\n",
    "def switch_player(current_player):\n",
    "    return \"O\" if current_player == \"X\" else \"X\"\n",
    "\n",
    "def check_winner(board):\n",
    "    # Check rows, columns, and diagonals for a winner\n",
    "    for i in range(3):\n",
    "        if board[i] == board[i + 3] == board[i + 6] != \" \":\n",
    "            return True  # Vertical win\n",
    "        if board[i * 3] == board[i * 3 + 1] == board[i * 3 + 2] != \" \":\n",
    "            return True  # Horizontal win\n",
    "\n",
    "    if board[0] == board[4] == board[8] != \" \" or board[2] == board[4] == board[6] != \" \":\n",
    "        return True  # Diagonal win\n",
    "\n",
    "    return False\n",
    "\n",
    "def check_draw(board):\n",
    "    return \" \" not in board and not check_winner(board)\n",
    "\n",
    "# Пример использования:\n",
    "board = [\" \"] * 9\n",
    "current_player = \"X\"\n",
    "\n",
    "while not check_winner(board) and not check_draw(board):\n",
    "    display_board(board)\n",
    "    position = int(input(f\"{current_player}'s turn. Enter a position (1-9): \")) - 1\n",
    "\n",
    "    if 0 <= position < 9:\n",
    "        make_move(board, position, current_player)\n",
    "        current_player = switch_player(current_player)\n",
    "    else:\n",
    "        print(\"Invalid position. Please enter a number between 1 and 9.\")\n",
    "\n",
    "display_board(board)\n",
    "\n",
    "if check_winner(board):\n",
    "    print(f\"{current_player} wins!\")\n",
    "else:\n",
    "    print(\"It's a draw!\")"
   ]
  },
  {
   "cell_type": "code",
   "execution_count": null,
   "metadata": {},
   "outputs": [],
   "source": [
    "class TicTacToy():\n",
    "    def __init__(self) -> None:\n",
    "        self._board = [\" \"] * 9\n",
    "        self._current_player = 'X'\n",
    "    def display_board(self):\n",
    "        print(f\" {self._board[0]} | {self._board[1]} | {self._board[2]} \")\n",
    "        print(\"-----------\")\n",
    "        print(f\" {self._board[3]} | {self._board[4]} | {self._board[5]} \")\n",
    "        print(\"-----------\")\n",
    "        print(f\" {self._board[6]} | {self._board[7]} | {self._board[8]} \")\n",
    "\n",
    "    def make_move(self, position):\n",
    "        if self._board[position] == \" \":\n",
    "            self._board[position] = self._current_player\n",
    "            self.switch_player()\n",
    "        else:\n",
    "            print(\"Invalid move. The position is already occupied.\")\n",
    "\n",
    "    def switch_player(self):\n",
    "        self._current_player = \"O\" if self._current_player == \"X\" else \"X\"\n",
    "\n",
    "    def check_winner(self):\n",
    "        # Check rows, columns, and diagonals for a winner\n",
    "        for i in range(3):\n",
    "            if self._board[i] == self._board[i + 3] == self._board[i + 6] != \" \":\n",
    "                return True  # Vertical win\n",
    "            if self._board[i * 3] == self._board[i * 3 + 1] == self._board[i * 3 + 2] != \" \":\n",
    "                return True  # Horizontal win\n",
    "\n",
    "        if self._board[0] == self._board[4] == self._board[8] != \" \" or self._board[2] == self._board[4] == self._board[6] != \" \":\n",
    "            return True  # Diagonal win\n",
    "\n",
    "        return False\n",
    "\n",
    "    def check_draw(self):\n",
    "        return \" \" not in self._board and not self.check_winner()\n",
    "\n",
    "    def play(self):\n",
    "        while not self.check_winner() and not self.check_draw():\n",
    "            self.display_board()\n",
    "            position = int(input(f\"{self._current_player}'s turn. Enter a position (1-9): \")) - 1\n",
    "\n",
    "            if 0 <= position < 9:\n",
    "                self.make_move(position)\n",
    "            else:\n",
    "                print(\"Invalid position. Please enter a number between 1 and 9.\")\n",
    "        self.switch_player()\n",
    "        print(f\"{self._current_player} wins!\")\n",
    "\n",
    "TicTacToy().play()"
   ]
  }
 ],
 "metadata": {
  "kernelspec": {
   "display_name": ".venv",
   "language": "python",
   "name": "python3"
  },
  "language_info": {
   "codemirror_mode": {
    "name": "ipython",
    "version": 3
   },
   "file_extension": ".py",
   "mimetype": "text/x-python",
   "name": "python",
   "nbconvert_exporter": "python",
   "pygments_lexer": "ipython3",
   "version": "3.9.10"
  }
 },
 "nbformat": 4,
 "nbformat_minor": 2
}
